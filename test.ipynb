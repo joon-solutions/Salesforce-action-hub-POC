{
 "cells": [
  {
   "cell_type": "code",
   "execution_count": 1,
   "metadata": {},
   "outputs": [],
   "source": [
    "import requests\n",
    "\n",
    "def store_state(state_url, data):\n",
    "  \"\"\"Stores data to the provided stateUrl.\n",
    "\n",
    "  Args:\n",
    "    state_url: The URL to store the data.\n",
    "    data: The data to store, as a dictionary.\n",
    "\n",
    "  Returns:\n",
    "    True if the data was stored successfully, False otherwise.\n",
    "  \"\"\"\n",
    "  try:\n",
    "    response = requests.post(state_url, json=data)\n",
    "    response.raise_for_status()\n",
    "    print(f\"Successfully stored data in state: {data}\")\n",
    "    return True\n",
    "  except requests.exceptions.RequestException as e:\n",
    "    print(f\"Error storing data in state: {e}\")\n",
    "    return False"
   ]
  },
  {
   "cell_type": "code",
   "execution_count": 4,
   "metadata": {},
   "outputs": [
    {
     "data": {
      "text/plain": [
       "<Response [200]>"
      ]
     },
     "execution_count": 4,
     "metadata": {},
     "output_type": "execute_result"
    }
   ],
   "source": [
    "import requests\n",
    "import os\n",
    "from dotenv import load_dotenv\n",
    "load_dotenv()\n",
    "client_id=os.getenv(\"CLIENT_ID\")\n",
    "client_secret=os.getenv(\"CLIENT_SECRET\")\n",
    "username=os.getenv(\"USERNAME\")\n",
    "password=os.getenv(\"PASSWORD\")\n",
    "\n",
    "url = \"https://one-line--ofuat.sandbox.my.salesforce.com/services/oauth2/token\"\n",
    "\n",
    "payload = {'grant_type': 'password',\n",
    "'client_id': client_id,\n",
    "'client_secret': client_secret,\n",
    "'username': username,\n",
    "'password': password}\n",
    "headers = {}\n",
    "\n",
    "response = requests.request(\"POST\", url, headers=headers, data=payload)\n",
    "\n",
    "response\n"
   ]
  }
 ],
 "metadata": {
  "kernelspec": {
   "display_name": "looker-actions",
   "language": "python",
   "name": "python3"
  },
  "language_info": {
   "codemirror_mode": {
    "name": "ipython",
    "version": 3
   },
   "file_extension": ".py",
   "mimetype": "text/x-python",
   "name": "python",
   "nbconvert_exporter": "python",
   "pygments_lexer": "ipython3",
   "version": "3.12.9"
  }
 },
 "nbformat": 4,
 "nbformat_minor": 2
}
